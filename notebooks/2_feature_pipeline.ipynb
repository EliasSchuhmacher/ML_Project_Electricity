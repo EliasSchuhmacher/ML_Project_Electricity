{
 "cells": [
  {
   "cell_type": "markdown",
   "id": "a9e46aad",
   "metadata": {},
   "source": [
    "<span style=\"font-width:bold; font-size: 3rem; color:#333;\">- Part 02: Daily Feature Pipeline for Air Quality (aqicn.org) and weather (openmeteo)</span>\n",
    "\n",
    "## 🗒️ This notebook is divided into the following sections:\n",
    "1. Download and Parse Data\n",
    "2. Feature Group Insertion\n",
    "\n",
    "\n",
    "__This notebook should be scheduled to run daily__\n",
    "\n",
    "In the book, we use a GitHub Action stored here:\n",
    "[.github/workflows/air-quality-daily.yml](https://github.com/featurestorebook/mlfs-book/blob/main/.github/workflows/air-quality-daily.yml)\n",
    "\n",
    "However, you are free to use any Python Orchestration tool to schedule this program to run daily."
   ]
  },
  {
   "cell_type": "markdown",
   "id": "cfe638c6",
   "metadata": {},
   "source": [
    "### <span style='color:#ff5f27'> 📝 Imports"
   ]
  },
  {
   "cell_type": "code",
   "execution_count": 1,
   "id": "7de2e93a",
   "metadata": {},
   "outputs": [],
   "source": [
    "import datetime\n",
    "import time\n",
    "import requests\n",
    "import pandas as pd\n",
    "import hopsworks\n",
    "from functions import util\n",
    "from functions import fetch_data\n",
    "import json\n",
    "import os\n",
    "import warnings\n",
    "warnings.filterwarnings(\"ignore\")"
   ]
  },
  {
   "cell_type": "markdown",
   "id": "da6081d1",
   "metadata": {},
   "source": [
    "## <span style='color:#ff5f27'> 🌍 Get the Sensor URL, Country, City, Street names from Hopsworks </span>\n",
    "\n",
    "__Update the values in the cell below.__\n",
    "\n",
    "__These should be the same values as in notebook 1 - the feature backfill notebook__\n"
   ]
  },
  {
   "cell_type": "code",
   "execution_count": 2,
   "id": "b70cd57d",
   "metadata": {
    "tags": []
   },
   "outputs": [
    {
     "name": "stdout",
     "output_type": "stream",
     "text": [
      "2025-01-08 11:21:04,255 INFO: Initializing external client\n",
      "2025-01-08 11:21:04,255 INFO: Base URL: https://c.app.hopsworks.ai:443\n",
      "2025-01-08 11:21:04,255 INFO: Base URL: https://c.app.hopsworks.ai:443\n",
      "2025-01-08 11:21:05,436 INFO: Python Engine initialized.\n",
      "\n",
      "Logged in to project, explore it here https://c.app.hopsworks.ai:443/p/1207495\n",
      "Project name: ML_Project_Electricity\n"
     ]
    }
   ],
   "source": [
    "# If you haven't set the env variable 'HOPSWORKS_API_KEY', then uncomment the next line and enter your API key\n",
    "# os.environ[\"HOPSWORKS_API_KEY\"] = \"\"\n",
    "with open('../data/keys/hopsworks-api-key.txt', 'r') as file:\n",
    "    os.environ[\"HOPSWORKS_API_KEY\"] = file.read().rstrip()\n",
    "\n",
    "project = hopsworks.login(project=\"ML_Project_Electricity\", api_key_value=os.environ[\"HOPSWORKS_API_KEY\"])\n",
    "fs = project.get_feature_store() \n",
    "# secrets = util.secrets_api(project.name)\n",
    "print(\"Project name:\", project.name)\n",
    "\n",
    "# This line will fail if you have not registered the AQI_API_KEY as a secret in Hopsworks\n",
    "# AQI_API_KEY = secrets.get_secret(\"AQI_API_KEY\").value\n",
    "# location_str = secrets.get_secret(\"SENSOR_LOCATION_JSON\").value\n",
    "# location = json.loads(location_str)\n",
    "\n",
    "# country=location['country']\n",
    "# city=location['city']\n",
    "# street=location['street']\n",
    "# aqicn_url=location['aqicn_url']\n",
    "# latitude=location['latitude']\n",
    "# longitude=location['longitude']\n",
    "\n",
    "# today = datetime.date.today()\n",
    "\n",
    "# location_str"
   ]
  },
  {
   "cell_type": "markdown",
   "id": "2caf9289",
   "metadata": {},
   "source": [
    "### <span style=\"color:#ff5f27;\"> 🔮 Get references to the Feature Groups </span>"
   ]
  },
  {
   "cell_type": "code",
   "execution_count": 3,
   "id": "66f5d7d5",
   "metadata": {},
   "outputs": [],
   "source": [
    "# Retrieve feature groups\n",
    "sthlm_weather_fg = fs.get_feature_group(\n",
    "    name='stockholm_weather',\n",
    "    version=1,\n",
    ")\n",
    "malmo_weather_fg = fs.get_feature_group(\n",
    "    name='malmo_weather',\n",
    "    version=1,\n",
    ")\n",
    "\n",
    "se3_fg = fs.get_feature_group(\n",
    "    name='se3_electricity_prices',\n",
    "    version=1,\n",
    ")\n",
    "\n",
    "se4_fg = fs.get_feature_group(\n",
    "    name='se4_electricity_prices',\n",
    "    version=1,\n",
    ")"
   ]
  },
  {
   "cell_type": "markdown",
   "id": "e10b6ce8",
   "metadata": {},
   "source": [
    "---"
   ]
  },
  {
   "cell_type": "markdown",
   "id": "87654603",
   "metadata": {},
   "source": [
    "## Retrieve the most recent electricity price data (for tomorrow)"
   ]
  },
  {
   "cell_type": "code",
   "execution_count": 4,
   "id": "73b84644",
   "metadata": {},
   "outputs": [
    {
     "data": {
      "text/html": [
       "<div>\n",
       "<style scoped>\n",
       "    .dataframe tbody tr th:only-of-type {\n",
       "        vertical-align: middle;\n",
       "    }\n",
       "\n",
       "    .dataframe tbody tr th {\n",
       "        vertical-align: top;\n",
       "    }\n",
       "\n",
       "    .dataframe thead th {\n",
       "        text-align: right;\n",
       "    }\n",
       "</style>\n",
       "<table border=\"1\" class=\"dataframe\">\n",
       "  <thead>\n",
       "    <tr style=\"text-align: right;\">\n",
       "      <th></th>\n",
       "      <th>time</th>\n",
       "      <th>pricearea</th>\n",
       "      <th>spotpriceeur</th>\n",
       "    </tr>\n",
       "  </thead>\n",
       "  <tbody>\n",
       "    <tr>\n",
       "      <th>0</th>\n",
       "      <td>2025-01-07 23:00:00+00:00</td>\n",
       "      <td>SE4</td>\n",
       "      <td>12.43</td>\n",
       "    </tr>\n",
       "    <tr>\n",
       "      <th>1</th>\n",
       "      <td>2025-01-08 00:00:00+00:00</td>\n",
       "      <td>SE4</td>\n",
       "      <td>12.88</td>\n",
       "    </tr>\n",
       "    <tr>\n",
       "      <th>2</th>\n",
       "      <td>2025-01-08 01:00:00+00:00</td>\n",
       "      <td>SE4</td>\n",
       "      <td>17.61</td>\n",
       "    </tr>\n",
       "    <tr>\n",
       "      <th>3</th>\n",
       "      <td>2025-01-08 02:00:00+00:00</td>\n",
       "      <td>SE4</td>\n",
       "      <td>16.83</td>\n",
       "    </tr>\n",
       "    <tr>\n",
       "      <th>4</th>\n",
       "      <td>2025-01-08 03:00:00+00:00</td>\n",
       "      <td>SE4</td>\n",
       "      <td>20.25</td>\n",
       "    </tr>\n",
       "  </tbody>\n",
       "</table>\n",
       "</div>"
      ],
      "text/plain": [
       "                       time pricearea  spotpriceeur\n",
       "0 2025-01-07 23:00:00+00:00       SE4         12.43\n",
       "1 2025-01-08 00:00:00+00:00       SE4         12.88\n",
       "2 2025-01-08 01:00:00+00:00       SE4         17.61\n",
       "3 2025-01-08 02:00:00+00:00       SE4         16.83\n",
       "4 2025-01-08 03:00:00+00:00       SE4         20.25"
      ]
     },
     "execution_count": 4,
     "metadata": {},
     "output_type": "execute_result"
    }
   ],
   "source": [
    "# Use the function get_tomorrows_electricity_prices \n",
    "# from the fetch_data module to get the electricity prices for tomorrow\n",
    "\n",
    "se3_current_prices = fetch_data.get_tomorrows_electricity_prices('SE3')\n",
    "se4_current_prices = fetch_data.get_tomorrows_electricity_prices('SE4')\n",
    "\n",
    "\n",
    "se4_current_prices.head()\n"
   ]
  },
  {
   "cell_type": "code",
   "execution_count": 5,
   "id": "c99673b0",
   "metadata": {},
   "outputs": [
    {
     "name": "stdout",
     "output_type": "stream",
     "text": [
      "Finished: Reading data from Hopsworks, using Hopsworks Feature Query Service (1.14s) \n",
      "Finished: Reading data from Hopsworks, using Hopsworks Feature Query Service (0.99s) \n",
      "Finished: Reading data from Hopsworks, using Hopsworks Feature Query Service (0.99s) \n",
      "Finished: Reading data from Hopsworks, using Hopsworks Feature Query Service (0.69s) \n"
     ]
    }
   ],
   "source": [
    "# Read the feature groups into pandas dataframes\n",
    "se3_df = se3_fg.read()\n",
    "se4_df = se4_fg.read()\n",
    "\n",
    "sthlm_weather_df = sthlm_weather_fg.read()\n",
    "malmo_weather_df = malmo_weather_fg.read()"
   ]
  },
  {
   "cell_type": "code",
   "execution_count": 6,
   "id": "5c9cdbd8",
   "metadata": {},
   "outputs": [],
   "source": [
    "# Merge the historical electricity prices with the most recent prices\n",
    "se3_df = pd.concat([se3_df, se3_current_prices], axis=0)\n",
    "se4_df = pd.concat([se4_df, se4_current_prices], axis=0)\n",
    "\n",
    "# sort the dataframes by time\n",
    "se3_df = se3_df.sort_values('time')\n",
    "se4_df = se4_df.sort_values('time')\n",
    "\n",
    "# Calculate a rolling average of the electricity prices of the last 7 days\n",
    "se3_df['spot_price_rolling'] = se3_df['spotpriceeur'].rolling(window=24*7).mean()\n",
    "se4_df['spot_price_rolling'] = se4_df['spotpriceeur'].rolling(window=24*7).mean()\n",
    "\n",
    "# convert to datetime\n",
    "# se3_df['time'] = pd.to_datetime(se3_df['time'])\n",
    "# se4_df['time'] = pd.to_datetime(se4_df['time'])\n"
   ]
  },
  {
   "cell_type": "code",
   "execution_count": 7,
   "id": "b379d05e",
   "metadata": {},
   "outputs": [
    {
     "data": {
      "text/html": [
       "<div>\n",
       "<style scoped>\n",
       "    .dataframe tbody tr th:only-of-type {\n",
       "        vertical-align: middle;\n",
       "    }\n",
       "\n",
       "    .dataframe tbody tr th {\n",
       "        vertical-align: top;\n",
       "    }\n",
       "\n",
       "    .dataframe thead th {\n",
       "        text-align: right;\n",
       "    }\n",
       "</style>\n",
       "<table border=\"1\" class=\"dataframe\">\n",
       "  <thead>\n",
       "    <tr style=\"text-align: right;\">\n",
       "      <th></th>\n",
       "      <th>time</th>\n",
       "      <th>pricearea</th>\n",
       "      <th>spotpriceeur</th>\n",
       "      <th>spot_price_rolling</th>\n",
       "    </tr>\n",
       "  </thead>\n",
       "  <tbody>\n",
       "    <tr>\n",
       "      <th>19</th>\n",
       "      <td>2025-01-08 18:00:00+00:00</td>\n",
       "      <td>SE3</td>\n",
       "      <td>139.72</td>\n",
       "      <td>19.396369</td>\n",
       "    </tr>\n",
       "    <tr>\n",
       "      <th>20</th>\n",
       "      <td>2025-01-08 19:00:00+00:00</td>\n",
       "      <td>SE3</td>\n",
       "      <td>106.31</td>\n",
       "      <td>20.030595</td>\n",
       "    </tr>\n",
       "    <tr>\n",
       "      <th>21</th>\n",
       "      <td>2025-01-08 20:00:00+00:00</td>\n",
       "      <td>SE3</td>\n",
       "      <td>93.57</td>\n",
       "      <td>20.583393</td>\n",
       "    </tr>\n",
       "    <tr>\n",
       "      <th>22</th>\n",
       "      <td>2025-01-08 21:00:00+00:00</td>\n",
       "      <td>SE3</td>\n",
       "      <td>75.78</td>\n",
       "      <td>21.023095</td>\n",
       "    </tr>\n",
       "    <tr>\n",
       "      <th>23</th>\n",
       "      <td>2025-01-08 22:00:00+00:00</td>\n",
       "      <td>SE3</td>\n",
       "      <td>49.53</td>\n",
       "      <td>21.304643</td>\n",
       "    </tr>\n",
       "  </tbody>\n",
       "</table>\n",
       "</div>"
      ],
      "text/plain": [
       "                         time pricearea  spotpriceeur  spot_price_rolling\n",
       "19  2025-01-08 18:00:00+00:00       SE3        139.72           19.396369\n",
       "20  2025-01-08 19:00:00+00:00       SE3        106.31           20.030595\n",
       "21  2025-01-08 20:00:00+00:00       SE3         93.57           20.583393\n",
       "22  2025-01-08 21:00:00+00:00       SE3         75.78           21.023095\n",
       "23  2025-01-08 22:00:00+00:00       SE3         49.53           21.304643"
      ]
     },
     "execution_count": 7,
     "metadata": {},
     "output_type": "execute_result"
    }
   ],
   "source": [
    "se3_df.tail()"
   ]
  },
  {
   "cell_type": "markdown",
   "id": "305d55d0",
   "metadata": {},
   "source": [
    "## Insert the newly retrieved values into the feature groups"
   ]
  },
  {
   "cell_type": "code",
   "execution_count": 8,
   "id": "1f62dc82",
   "metadata": {},
   "outputs": [
    {
     "name": "stderr",
     "output_type": "stream",
     "text": [
      "Uploading Dataframe: 100.00% |██████████| Rows 24/24 | Elapsed Time: 00:01 | Remaining Time: 00:00\n"
     ]
    },
    {
     "name": "stdout",
     "output_type": "stream",
     "text": [
      "Launching job: se3_electricity_prices_1_offline_fg_materialization\n",
      "Job started successfully, you can follow the progress at \n",
      "https://c.app.hopsworks.ai:443/p/1207495/jobs/named/se3_electricity_prices_1_offline_fg_materialization/executions\n"
     ]
    },
    {
     "name": "stderr",
     "output_type": "stream",
     "text": [
      "Uploading Dataframe: 100.00% |██████████| Rows 24/24 | Elapsed Time: 00:01 | Remaining Time: 00:00\n"
     ]
    },
    {
     "name": "stdout",
     "output_type": "stream",
     "text": [
      "Launching job: se4_electricity_prices_1_offline_fg_materialization\n",
      "Job started successfully, you can follow the progress at \n",
      "https://c.app.hopsworks.ai:443/p/1207495/jobs/named/se4_electricity_prices_1_offline_fg_materialization/executions\n"
     ]
    },
    {
     "data": {
      "text/plain": [
       "(Job('se4_electricity_prices_1_offline_fg_materialization', 'SPARK'), None)"
      ]
     },
     "execution_count": 8,
     "metadata": {},
     "output_type": "execute_result"
    }
   ],
   "source": [
    "# Insert the new electricity prices into the feature store\n",
    "se3_fg.insert(se3_df.tail(24))\n",
    "se4_fg.insert(se4_df.tail(24))"
   ]
  },
  {
   "cell_type": "markdown",
   "id": "facd8592",
   "metadata": {},
   "source": [
    "## Retrieve fresh weather data"
   ]
  },
  {
   "cell_type": "code",
   "execution_count": 9,
   "id": "eb850a92",
   "metadata": {},
   "outputs": [
    {
     "name": "stdout",
     "output_type": "stream",
     "text": [
      "Coordinates 59.32889938354492°N 18.072357177734375°E\n",
      "Elevation 24.0 m asl\n",
      "Timezone b'Europe/Berlin' b'CET'\n",
      "Timezone difference to GMT+0 3600 s\n",
      "Coordinates 55.60652542114258°N 13.002044677734375°E\n",
      "Elevation 12.0 m asl\n",
      "Timezone b'Europe/Berlin' b'CET'\n",
      "Timezone difference to GMT+0 3600 s\n"
     ]
    },
    {
     "data": {
      "text/html": [
       "<div>\n",
       "<style scoped>\n",
       "    .dataframe tbody tr th:only-of-type {\n",
       "        vertical-align: middle;\n",
       "    }\n",
       "\n",
       "    .dataframe tbody tr th {\n",
       "        vertical-align: top;\n",
       "    }\n",
       "\n",
       "    .dataframe thead th {\n",
       "        text-align: right;\n",
       "    }\n",
       "</style>\n",
       "<table border=\"1\" class=\"dataframe\">\n",
       "  <thead>\n",
       "    <tr style=\"text-align: right;\">\n",
       "      <th></th>\n",
       "      <th>time</th>\n",
       "      <th>temperature</th>\n",
       "      <th>precipitation</th>\n",
       "      <th>cloud_cover</th>\n",
       "      <th>wind_speed_10m</th>\n",
       "      <th>date</th>\n",
       "      <th>sunshine_duration</th>\n",
       "      <th>weekday</th>\n",
       "      <th>month</th>\n",
       "      <th>hour</th>\n",
       "    </tr>\n",
       "  </thead>\n",
       "  <tbody>\n",
       "    <tr>\n",
       "      <th>0</th>\n",
       "      <td>2025-01-07 23:00:00+00:00</td>\n",
       "      <td>3.524</td>\n",
       "      <td>0.0</td>\n",
       "      <td>100</td>\n",
       "      <td>34.200001</td>\n",
       "      <td>2025-01-07</td>\n",
       "      <td>0.000000</td>\n",
       "      <td>1</td>\n",
       "      <td>1</td>\n",
       "      <td>23</td>\n",
       "    </tr>\n",
       "    <tr>\n",
       "      <th>1</th>\n",
       "      <td>2025-01-08 00:00:00+00:00</td>\n",
       "      <td>3.874</td>\n",
       "      <td>0.0</td>\n",
       "      <td>100</td>\n",
       "      <td>36.360001</td>\n",
       "      <td>2025-01-08</td>\n",
       "      <td>258.567657</td>\n",
       "      <td>2</td>\n",
       "      <td>1</td>\n",
       "      <td>0</td>\n",
       "    </tr>\n",
       "    <tr>\n",
       "      <th>2</th>\n",
       "      <td>2025-01-08 01:00:00+00:00</td>\n",
       "      <td>3.724</td>\n",
       "      <td>0.0</td>\n",
       "      <td>100</td>\n",
       "      <td>37.079998</td>\n",
       "      <td>2025-01-08</td>\n",
       "      <td>258.567657</td>\n",
       "      <td>2</td>\n",
       "      <td>1</td>\n",
       "      <td>1</td>\n",
       "    </tr>\n",
       "    <tr>\n",
       "      <th>3</th>\n",
       "      <td>2025-01-08 02:00:00+00:00</td>\n",
       "      <td>3.674</td>\n",
       "      <td>0.0</td>\n",
       "      <td>100</td>\n",
       "      <td>35.639999</td>\n",
       "      <td>2025-01-08</td>\n",
       "      <td>258.567657</td>\n",
       "      <td>2</td>\n",
       "      <td>1</td>\n",
       "      <td>2</td>\n",
       "    </tr>\n",
       "    <tr>\n",
       "      <th>4</th>\n",
       "      <td>2025-01-08 03:00:00+00:00</td>\n",
       "      <td>3.624</td>\n",
       "      <td>0.0</td>\n",
       "      <td>100</td>\n",
       "      <td>34.919998</td>\n",
       "      <td>2025-01-08</td>\n",
       "      <td>258.567657</td>\n",
       "      <td>2</td>\n",
       "      <td>1</td>\n",
       "      <td>3</td>\n",
       "    </tr>\n",
       "    <tr>\n",
       "      <th>...</th>\n",
       "      <td>...</td>\n",
       "      <td>...</td>\n",
       "      <td>...</td>\n",
       "      <td>...</td>\n",
       "      <td>...</td>\n",
       "      <td>...</td>\n",
       "      <td>...</td>\n",
       "      <td>...</td>\n",
       "      <td>...</td>\n",
       "      <td>...</td>\n",
       "    </tr>\n",
       "    <tr>\n",
       "      <th>140</th>\n",
       "      <td>2025-01-13 19:00:00+00:00</td>\n",
       "      <td>4.100</td>\n",
       "      <td>0.1</td>\n",
       "      <td>100</td>\n",
       "      <td>27.609911</td>\n",
       "      <td>2025-01-13</td>\n",
       "      <td>0.000000</td>\n",
       "      <td>0</td>\n",
       "      <td>1</td>\n",
       "      <td>19</td>\n",
       "    </tr>\n",
       "    <tr>\n",
       "      <th>141</th>\n",
       "      <td>2025-01-13 20:00:00+00:00</td>\n",
       "      <td>4.100</td>\n",
       "      <td>0.1</td>\n",
       "      <td>100</td>\n",
       "      <td>28.916763</td>\n",
       "      <td>2025-01-13</td>\n",
       "      <td>0.000000</td>\n",
       "      <td>0</td>\n",
       "      <td>1</td>\n",
       "      <td>20</td>\n",
       "    </tr>\n",
       "    <tr>\n",
       "      <th>142</th>\n",
       "      <td>2025-01-13 21:00:00+00:00</td>\n",
       "      <td>4.150</td>\n",
       "      <td>0.1</td>\n",
       "      <td>100</td>\n",
       "      <td>29.869154</td>\n",
       "      <td>2025-01-13</td>\n",
       "      <td>0.000000</td>\n",
       "      <td>0</td>\n",
       "      <td>1</td>\n",
       "      <td>21</td>\n",
       "    </tr>\n",
       "    <tr>\n",
       "      <th>143</th>\n",
       "      <td>2025-01-13 22:00:00+00:00</td>\n",
       "      <td>4.350</td>\n",
       "      <td>0.0</td>\n",
       "      <td>100</td>\n",
       "      <td>29.871325</td>\n",
       "      <td>2025-01-13</td>\n",
       "      <td>0.000000</td>\n",
       "      <td>0</td>\n",
       "      <td>1</td>\n",
       "      <td>22</td>\n",
       "    </tr>\n",
       "    <tr>\n",
       "      <th>144</th>\n",
       "      <td>2025-01-13 23:00:00+00:00</td>\n",
       "      <td>4.500</td>\n",
       "      <td>0.0</td>\n",
       "      <td>100</td>\n",
       "      <td>29.237675</td>\n",
       "      <td>2025-01-13</td>\n",
       "      <td>0.000000</td>\n",
       "      <td>0</td>\n",
       "      <td>1</td>\n",
       "      <td>23</td>\n",
       "    </tr>\n",
       "  </tbody>\n",
       "</table>\n",
       "<p>145 rows × 10 columns</p>\n",
       "</div>"
      ],
      "text/plain": [
       "                         time  temperature  precipitation  cloud_cover  \\\n",
       "0   2025-01-07 23:00:00+00:00        3.524            0.0          100   \n",
       "1   2025-01-08 00:00:00+00:00        3.874            0.0          100   \n",
       "2   2025-01-08 01:00:00+00:00        3.724            0.0          100   \n",
       "3   2025-01-08 02:00:00+00:00        3.674            0.0          100   \n",
       "4   2025-01-08 03:00:00+00:00        3.624            0.0          100   \n",
       "..                        ...          ...            ...          ...   \n",
       "140 2025-01-13 19:00:00+00:00        4.100            0.1          100   \n",
       "141 2025-01-13 20:00:00+00:00        4.100            0.1          100   \n",
       "142 2025-01-13 21:00:00+00:00        4.150            0.1          100   \n",
       "143 2025-01-13 22:00:00+00:00        4.350            0.0          100   \n",
       "144 2025-01-13 23:00:00+00:00        4.500            0.0          100   \n",
       "\n",
       "     wind_speed_10m       date  sunshine_duration  weekday  month  hour  \n",
       "0         34.200001 2025-01-07           0.000000        1      1    23  \n",
       "1         36.360001 2025-01-08         258.567657        2      1     0  \n",
       "2         37.079998 2025-01-08         258.567657        2      1     1  \n",
       "3         35.639999 2025-01-08         258.567657        2      1     2  \n",
       "4         34.919998 2025-01-08         258.567657        2      1     3  \n",
       "..              ...        ...                ...      ...    ...   ...  \n",
       "140       27.609911 2025-01-13           0.000000        0      1    19  \n",
       "141       28.916763 2025-01-13           0.000000        0      1    20  \n",
       "142       29.869154 2025-01-13           0.000000        0      1    21  \n",
       "143       29.871325 2025-01-13           0.000000        0      1    22  \n",
       "144       29.237675 2025-01-13           0.000000        0      1    23  \n",
       "\n",
       "[145 rows x 10 columns]"
      ]
     },
     "execution_count": 9,
     "metadata": {},
     "output_type": "execute_result"
    }
   ],
   "source": [
    "sthlm_forecast_df = fetch_data.get_hourly_weather_forecast(59.3294, 18.0687) #Stockholm\n",
    "malmo_forecast_df = fetch_data.get_hourly_weather_forecast(55.6059, 13.0007) #Malmo\n",
    "\n",
    "# Drop nan values\n",
    "sthlm_forecast_df = sthlm_forecast_df.dropna()\n",
    "malmo_forecast_df = malmo_forecast_df.dropna()\n",
    "\n",
    "malmo_forecast_df"
   ]
  },
  {
   "cell_type": "markdown",
   "id": "2a326ce7",
   "metadata": {},
   "source": [
    "## Insert weather forecast data into weather featuregroups"
   ]
  },
  {
   "cell_type": "code",
   "execution_count": 10,
   "id": "e113c895",
   "metadata": {},
   "outputs": [
    {
     "name": "stderr",
     "output_type": "stream",
     "text": [
      "Uploading Dataframe: 100.00% |██████████| Rows 145/145 | Elapsed Time: 00:01 | Remaining Time: 00:00\n"
     ]
    },
    {
     "name": "stdout",
     "output_type": "stream",
     "text": [
      "Launching job: stockholm_weather_1_offline_fg_materialization\n",
      "Job started successfully, you can follow the progress at \n",
      "https://c.app.hopsworks.ai:443/p/1207495/jobs/named/stockholm_weather_1_offline_fg_materialization/executions\n"
     ]
    },
    {
     "name": "stderr",
     "output_type": "stream",
     "text": [
      "%3|1736331709.665|FAIL|rdkafka#consumer-8| [thrd:ssl://51.161.81.208:9093/bootstrap]: ssl://51.161.81.208:9093/bootstrap: SSL handshake failed: Disconnected: connecting to a PLAINTEXT broker listener? (after 115ms in state SSL_HANDSHAKE)\n",
      "Uploading Dataframe: 100.00% |██████████| Rows 145/145 | Elapsed Time: 00:01 | Remaining Time: 00:00\n"
     ]
    },
    {
     "name": "stdout",
     "output_type": "stream",
     "text": [
      "Launching job: malmo_weather_1_offline_fg_materialization\n",
      "Job started successfully, you can follow the progress at \n",
      "https://c.app.hopsworks.ai:443/p/1207495/jobs/named/malmo_weather_1_offline_fg_materialization/executions\n"
     ]
    },
    {
     "data": {
      "text/plain": [
       "(Job('malmo_weather_1_offline_fg_materialization', 'SPARK'), None)"
      ]
     },
     "execution_count": 10,
     "metadata": {},
     "output_type": "execute_result"
    }
   ],
   "source": [
    "# Insert the new weather forecast into the feature store\n",
    "sthlm_weather_fg.insert(sthlm_forecast_df)\n",
    "malmo_weather_fg.insert(malmo_forecast_df)"
   ]
  },
  {
   "cell_type": "markdown",
   "id": "0187b1a7",
   "metadata": {},
   "source": [
    "## END"
   ]
  }
 ],
 "metadata": {
  "kernelspec": {
   "display_name": "base",
   "language": "python",
   "name": "python3"
  },
  "language_info": {
   "codemirror_mode": {
    "name": "ipython",
    "version": 3
   },
   "file_extension": ".py",
   "mimetype": "text/x-python",
   "name": "python",
   "nbconvert_exporter": "python",
   "pygments_lexer": "ipython3",
   "version": "3.10.9"
  }
 },
 "nbformat": 4,
 "nbformat_minor": 5
}
