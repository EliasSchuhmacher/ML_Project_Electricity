{
 "cells": [
  {
   "cell_type": "markdown",
   "id": "a9e46aad",
   "metadata": {},
   "source": [
    "## Daily feature pipeline"
   ]
  },
  {
   "cell_type": "markdown",
   "id": "cfe638c6",
   "metadata": {},
   "source": [
    "### <span style='color:#ff5f27'> 📝 Imports"
   ]
  },
  {
   "cell_type": "code",
   "execution_count": 1,
   "id": "7de2e93a",
   "metadata": {},
   "outputs": [],
   "source": [
    "import datetime\n",
    "import time\n",
    "import requests\n",
    "import pandas as pd\n",
    "import hopsworks\n",
    "from functions import util\n",
    "from functions import fetch_data\n",
    "import json\n",
    "import os\n",
    "import warnings\n",
    "warnings.filterwarnings(\"ignore\")"
   ]
  },
  {
   "cell_type": "code",
   "execution_count": null,
   "id": "b70cd57d",
   "metadata": {
    "tags": []
   },
   "outputs": [
    {
     "name": "stdout",
     "output_type": "stream",
     "text": [
      "2025-01-08 14:07:50,519 INFO: Initializing external client\n",
      "2025-01-08 14:07:50,519 INFO: Base URL: https://c.app.hopsworks.ai:443\n",
      "2025-01-08 14:07:50,519 INFO: Base URL: https://c.app.hopsworks.ai:443\n",
      "2025-01-08 14:07:51,696 INFO: Python Engine initialized.\n",
      "\n",
      "Logged in to project, explore it here https://c.app.hopsworks.ai:443/p/1207495\n",
      "Project name: ML_Project_Electricity\n"
     ]
    }
   ],
   "source": [
    "# with open('../data/keys/hopsworks-api-key.txt', 'r') as file:\n",
    "#     os.environ[\"HOPSWORKS_API_KEY\"] = file.read().rstrip()\n",
    "\n",
    "project = hopsworks.login(project=\"ML_Project_Electricity\", api_key_value=os.environ[\"HOPSWORKS_API_KEY\"])\n",
    "fs = project.get_feature_store() \n",
    "# secrets = util.secrets_api(project.name)\n",
    "print(\"Project name:\", project.name)\n"
   ]
  },
  {
   "cell_type": "markdown",
   "id": "2caf9289",
   "metadata": {},
   "source": [
    "### <span style=\"color:#ff5f27;\"> 🔮 Get references to the Feature Groups </span>"
   ]
  },
  {
   "cell_type": "code",
   "execution_count": 6,
   "id": "66f5d7d5",
   "metadata": {},
   "outputs": [],
   "source": [
    "# Retrieve feature groups\n",
    "sthlm_weather_fg = fs.get_feature_group(\n",
    "    name='stockholm_weather',\n",
    "    version=1,\n",
    ")\n",
    "malmo_weather_fg = fs.get_feature_group(\n",
    "    name='malmo_weather',\n",
    "    version=1,\n",
    ")\n",
    "\n",
    "se3_fg = fs.get_feature_group(\n",
    "    name='se3_electricity_prices',\n",
    "    version=1,\n",
    ")\n",
    "\n",
    "se4_fg = fs.get_feature_group(\n",
    "    name='se4_electricity_prices',\n",
    "    version=1,\n",
    ")"
   ]
  },
  {
   "cell_type": "markdown",
   "id": "e10b6ce8",
   "metadata": {},
   "source": [
    "---"
   ]
  },
  {
   "cell_type": "markdown",
   "id": "87654603",
   "metadata": {},
   "source": [
    "## Retrieve the most recent electricity price data (for tomorrow)"
   ]
  },
  {
   "cell_type": "code",
   "execution_count": 7,
   "id": "73b84644",
   "metadata": {},
   "outputs": [
    {
     "data": {
      "text/html": [
       "<div>\n",
       "<style scoped>\n",
       "    .dataframe tbody tr th:only-of-type {\n",
       "        vertical-align: middle;\n",
       "    }\n",
       "\n",
       "    .dataframe tbody tr th {\n",
       "        vertical-align: top;\n",
       "    }\n",
       "\n",
       "    .dataframe thead th {\n",
       "        text-align: right;\n",
       "    }\n",
       "</style>\n",
       "<table border=\"1\" class=\"dataframe\">\n",
       "  <thead>\n",
       "    <tr style=\"text-align: right;\">\n",
       "      <th></th>\n",
       "      <th>time</th>\n",
       "      <th>pricearea</th>\n",
       "      <th>spotpriceeur</th>\n",
       "    </tr>\n",
       "  </thead>\n",
       "  <tbody>\n",
       "    <tr>\n",
       "      <th>0</th>\n",
       "      <td>2025-01-08 23:00:00+00:00</td>\n",
       "      <td>SE4</td>\n",
       "      <td>33.87</td>\n",
       "    </tr>\n",
       "    <tr>\n",
       "      <th>1</th>\n",
       "      <td>2025-01-09 00:00:00+00:00</td>\n",
       "      <td>SE4</td>\n",
       "      <td>31.84</td>\n",
       "    </tr>\n",
       "    <tr>\n",
       "      <th>2</th>\n",
       "      <td>2025-01-09 01:00:00+00:00</td>\n",
       "      <td>SE4</td>\n",
       "      <td>31.32</td>\n",
       "    </tr>\n",
       "    <tr>\n",
       "      <th>3</th>\n",
       "      <td>2025-01-09 02:00:00+00:00</td>\n",
       "      <td>SE4</td>\n",
       "      <td>31.89</td>\n",
       "    </tr>\n",
       "    <tr>\n",
       "      <th>4</th>\n",
       "      <td>2025-01-09 03:00:00+00:00</td>\n",
       "      <td>SE4</td>\n",
       "      <td>33.69</td>\n",
       "    </tr>\n",
       "  </tbody>\n",
       "</table>\n",
       "</div>"
      ],
      "text/plain": [
       "                       time pricearea  spotpriceeur\n",
       "0 2025-01-08 23:00:00+00:00       SE4         33.87\n",
       "1 2025-01-09 00:00:00+00:00       SE4         31.84\n",
       "2 2025-01-09 01:00:00+00:00       SE4         31.32\n",
       "3 2025-01-09 02:00:00+00:00       SE4         31.89\n",
       "4 2025-01-09 03:00:00+00:00       SE4         33.69"
      ]
     },
     "execution_count": 7,
     "metadata": {},
     "output_type": "execute_result"
    }
   ],
   "source": [
    "# Use the function get_tomorrows_electricity_prices \n",
    "# from the fetch_data module to get the electricity prices for tomorrow\n",
    "\n",
    "se3_current_prices = fetch_data.get_tomorrows_electricity_prices('SE3')\n",
    "se4_current_prices = fetch_data.get_tomorrows_electricity_prices('SE4')\n",
    "\n",
    "\n",
    "se4_current_prices.head()\n"
   ]
  },
  {
   "cell_type": "code",
   "execution_count": 8,
   "id": "c99673b0",
   "metadata": {},
   "outputs": [
    {
     "name": "stdout",
     "output_type": "stream",
     "text": [
      "Finished: Reading data from Hopsworks, using Hopsworks Feature Query Service (2.02s) \n",
      "Finished: Reading data from Hopsworks, using Hopsworks Feature Query Service (1.20s) \n",
      "Finished: Reading data from Hopsworks, using Hopsworks Feature Query Service (1.78s) \n",
      "Finished: Reading data from Hopsworks, using Hopsworks Feature Query Service (1.48s) \n"
     ]
    }
   ],
   "source": [
    "# Read the feature groups into pandas dataframes\n",
    "se3_df = se3_fg.read()\n",
    "se4_df = se4_fg.read()\n",
    "\n",
    "sthlm_weather_df = sthlm_weather_fg.read()\n",
    "malmo_weather_df = malmo_weather_fg.read()"
   ]
  },
  {
   "cell_type": "code",
   "execution_count": 9,
   "id": "5c9cdbd8",
   "metadata": {},
   "outputs": [],
   "source": [
    "# Merge the historical electricity prices with the most recent prices\n",
    "se3_df = pd.concat([se3_df, se3_current_prices], axis=0)\n",
    "se4_df = pd.concat([se4_df, se4_current_prices], axis=0)\n",
    "\n",
    "# sort the dataframes by time\n",
    "se3_df = se3_df.sort_values('time')\n",
    "se4_df = se4_df.sort_values('time')\n",
    "\n",
    "# Calculate a rolling average of the electricity prices of the last 7 days\n",
    "se3_df['spot_price_rolling'] = se3_df['spotpriceeur'].rolling(window=24*7).mean()\n",
    "se4_df['spot_price_rolling'] = se4_df['spotpriceeur'].rolling(window=24*7).mean()\n",
    "\n",
    "# Calculate a rolling average of the electricity prices of the last 3 hours\n",
    "se3_df['spot_price_rolling_3h'] = se3_df['spotpriceeur'].rolling(window=3).mean()\n",
    "se4_df['spot_price_rolling_3h'] = se4_df['spotpriceeur'].rolling(window=3).mean()\n",
    "\n",
    "# convert to datetime\n",
    "# se3_df['time'] = pd.to_datetime(se3_df['time'])\n",
    "# se4_df['time'] = pd.to_datetime(se4_df['time'])\n"
   ]
  },
  {
   "cell_type": "code",
   "execution_count": 10,
   "id": "b379d05e",
   "metadata": {},
   "outputs": [
    {
     "data": {
      "text/html": [
       "<div>\n",
       "<style scoped>\n",
       "    .dataframe tbody tr th:only-of-type {\n",
       "        vertical-align: middle;\n",
       "    }\n",
       "\n",
       "    .dataframe tbody tr th {\n",
       "        vertical-align: top;\n",
       "    }\n",
       "\n",
       "    .dataframe thead th {\n",
       "        text-align: right;\n",
       "    }\n",
       "</style>\n",
       "<table border=\"1\" class=\"dataframe\">\n",
       "  <thead>\n",
       "    <tr style=\"text-align: right;\">\n",
       "      <th></th>\n",
       "      <th>time</th>\n",
       "      <th>pricearea</th>\n",
       "      <th>spotpriceeur</th>\n",
       "      <th>spot_price_rolling</th>\n",
       "      <th>spot_price_rolling_3h</th>\n",
       "    </tr>\n",
       "  </thead>\n",
       "  <tbody>\n",
       "    <tr>\n",
       "      <th>19</th>\n",
       "      <td>2025-01-09 18:00:00+00:00</td>\n",
       "      <td>SE3</td>\n",
       "      <td>127.59</td>\n",
       "      <td>22.614167</td>\n",
       "      <td>134.183333</td>\n",
       "    </tr>\n",
       "    <tr>\n",
       "      <th>20</th>\n",
       "      <td>2025-01-09 19:00:00+00:00</td>\n",
       "      <td>SE3</td>\n",
       "      <td>119.99</td>\n",
       "      <td>23.247917</td>\n",
       "      <td>128.956667</td>\n",
       "    </tr>\n",
       "    <tr>\n",
       "      <th>21</th>\n",
       "      <td>2025-01-09 20:00:00+00:00</td>\n",
       "      <td>SE3</td>\n",
       "      <td>102.52</td>\n",
       "      <td>23.808036</td>\n",
       "      <td>116.700000</td>\n",
       "    </tr>\n",
       "    <tr>\n",
       "      <th>22</th>\n",
       "      <td>2025-01-09 21:00:00+00:00</td>\n",
       "      <td>SE3</td>\n",
       "      <td>97.85</td>\n",
       "      <td>24.362738</td>\n",
       "      <td>106.786667</td>\n",
       "    </tr>\n",
       "    <tr>\n",
       "      <th>23</th>\n",
       "      <td>2025-01-09 22:00:00+00:00</td>\n",
       "      <td>SE3</td>\n",
       "      <td>68.53</td>\n",
       "      <td>24.746369</td>\n",
       "      <td>89.633333</td>\n",
       "    </tr>\n",
       "  </tbody>\n",
       "</table>\n",
       "</div>"
      ],
      "text/plain": [
       "                         time pricearea  spotpriceeur  spot_price_rolling  \\\n",
       "19  2025-01-09 18:00:00+00:00       SE3        127.59           22.614167   \n",
       "20  2025-01-09 19:00:00+00:00       SE3        119.99           23.247917   \n",
       "21  2025-01-09 20:00:00+00:00       SE3        102.52           23.808036   \n",
       "22  2025-01-09 21:00:00+00:00       SE3         97.85           24.362738   \n",
       "23  2025-01-09 22:00:00+00:00       SE3         68.53           24.746369   \n",
       "\n",
       "    spot_price_rolling_3h  \n",
       "19             134.183333  \n",
       "20             128.956667  \n",
       "21             116.700000  \n",
       "22             106.786667  \n",
       "23              89.633333  "
      ]
     },
     "execution_count": 10,
     "metadata": {},
     "output_type": "execute_result"
    }
   ],
   "source": [
    "se3_df.tail()"
   ]
  },
  {
   "cell_type": "markdown",
   "id": "305d55d0",
   "metadata": {},
   "source": [
    "## Insert the newly retrieved values into the feature groups"
   ]
  },
  {
   "cell_type": "code",
   "execution_count": 11,
   "id": "1f62dc82",
   "metadata": {},
   "outputs": [
    {
     "name": "stderr",
     "output_type": "stream",
     "text": [
      "Uploading Dataframe: 100.00% |██████████| Rows 24/24 | Elapsed Time: 00:01 | Remaining Time: 00:00\n"
     ]
    },
    {
     "name": "stdout",
     "output_type": "stream",
     "text": [
      "Launching job: se3_electricity_prices_1_offline_fg_materialization\n",
      "Job started successfully, you can follow the progress at \n",
      "https://c.app.hopsworks.ai:443/p/1207495/jobs/named/se3_electricity_prices_1_offline_fg_materialization/executions\n"
     ]
    },
    {
     "name": "stderr",
     "output_type": "stream",
     "text": [
      "Uploading Dataframe: 100.00% |██████████| Rows 24/24 | Elapsed Time: 00:01 | Remaining Time: 00:00\n"
     ]
    },
    {
     "name": "stdout",
     "output_type": "stream",
     "text": [
      "Launching job: se4_electricity_prices_1_offline_fg_materialization\n",
      "Job started successfully, you can follow the progress at \n",
      "https://c.app.hopsworks.ai:443/p/1207495/jobs/named/se4_electricity_prices_1_offline_fg_materialization/executions\n"
     ]
    },
    {
     "data": {
      "text/plain": [
       "(Job('se4_electricity_prices_1_offline_fg_materialization', 'SPARK'), None)"
      ]
     },
     "execution_count": 11,
     "metadata": {},
     "output_type": "execute_result"
    }
   ],
   "source": [
    "# Insert the new electricity prices into the feature store\n",
    "se3_fg.insert(se3_df.tail(24))\n",
    "se4_fg.insert(se4_df.tail(24))"
   ]
  },
  {
   "cell_type": "markdown",
   "id": "facd8592",
   "metadata": {},
   "source": [
    "## Retrieve fresh weather data"
   ]
  },
  {
   "cell_type": "code",
   "execution_count": 12,
   "id": "eb850a92",
   "metadata": {},
   "outputs": [
    {
     "name": "stdout",
     "output_type": "stream",
     "text": [
      "Coordinates 59.32889938354492°N 18.072357177734375°E\n",
      "Elevation 24.0 m asl\n",
      "Timezone b'Europe/Berlin' b'CET'\n",
      "Timezone difference to GMT+0 3600 s\n",
      "Coordinates 55.60652542114258°N 13.002044677734375°E\n",
      "Elevation 12.0 m asl\n",
      "Timezone b'Europe/Berlin' b'CET'\n",
      "Timezone difference to GMT+0 3600 s\n"
     ]
    },
    {
     "data": {
      "text/html": [
       "<div>\n",
       "<style scoped>\n",
       "    .dataframe tbody tr th:only-of-type {\n",
       "        vertical-align: middle;\n",
       "    }\n",
       "\n",
       "    .dataframe tbody tr th {\n",
       "        vertical-align: top;\n",
       "    }\n",
       "\n",
       "    .dataframe thead th {\n",
       "        text-align: right;\n",
       "    }\n",
       "</style>\n",
       "<table border=\"1\" class=\"dataframe\">\n",
       "  <thead>\n",
       "    <tr style=\"text-align: right;\">\n",
       "      <th></th>\n",
       "      <th>time</th>\n",
       "      <th>temperature</th>\n",
       "      <th>precipitation</th>\n",
       "      <th>cloud_cover</th>\n",
       "      <th>wind_speed_10m</th>\n",
       "      <th>date</th>\n",
       "      <th>sunshine_duration</th>\n",
       "      <th>weekday</th>\n",
       "      <th>month</th>\n",
       "      <th>hour</th>\n",
       "    </tr>\n",
       "  </thead>\n",
       "  <tbody>\n",
       "    <tr>\n",
       "      <th>0</th>\n",
       "      <td>2025-01-07 23:00:00+00:00</td>\n",
       "      <td>3.524</td>\n",
       "      <td>0.0</td>\n",
       "      <td>100</td>\n",
       "      <td>34.200001</td>\n",
       "      <td>2025-01-07</td>\n",
       "      <td>0.000000</td>\n",
       "      <td>1</td>\n",
       "      <td>1</td>\n",
       "      <td>23</td>\n",
       "    </tr>\n",
       "    <tr>\n",
       "      <th>1</th>\n",
       "      <td>2025-01-08 00:00:00+00:00</td>\n",
       "      <td>3.874</td>\n",
       "      <td>0.0</td>\n",
       "      <td>100</td>\n",
       "      <td>36.360001</td>\n",
       "      <td>2025-01-08</td>\n",
       "      <td>2285.459717</td>\n",
       "      <td>2</td>\n",
       "      <td>1</td>\n",
       "      <td>0</td>\n",
       "    </tr>\n",
       "    <tr>\n",
       "      <th>2</th>\n",
       "      <td>2025-01-08 01:00:00+00:00</td>\n",
       "      <td>3.724</td>\n",
       "      <td>0.0</td>\n",
       "      <td>100</td>\n",
       "      <td>37.079998</td>\n",
       "      <td>2025-01-08</td>\n",
       "      <td>2285.459717</td>\n",
       "      <td>2</td>\n",
       "      <td>1</td>\n",
       "      <td>1</td>\n",
       "    </tr>\n",
       "    <tr>\n",
       "      <th>3</th>\n",
       "      <td>2025-01-08 02:00:00+00:00</td>\n",
       "      <td>3.674</td>\n",
       "      <td>0.0</td>\n",
       "      <td>100</td>\n",
       "      <td>35.639999</td>\n",
       "      <td>2025-01-08</td>\n",
       "      <td>2285.459717</td>\n",
       "      <td>2</td>\n",
       "      <td>1</td>\n",
       "      <td>2</td>\n",
       "    </tr>\n",
       "    <tr>\n",
       "      <th>4</th>\n",
       "      <td>2025-01-08 03:00:00+00:00</td>\n",
       "      <td>3.624</td>\n",
       "      <td>0.0</td>\n",
       "      <td>100</td>\n",
       "      <td>34.919998</td>\n",
       "      <td>2025-01-08</td>\n",
       "      <td>2285.459717</td>\n",
       "      <td>2</td>\n",
       "      <td>1</td>\n",
       "      <td>3</td>\n",
       "    </tr>\n",
       "    <tr>\n",
       "      <th>...</th>\n",
       "      <td>...</td>\n",
       "      <td>...</td>\n",
       "      <td>...</td>\n",
       "      <td>...</td>\n",
       "      <td>...</td>\n",
       "      <td>...</td>\n",
       "      <td>...</td>\n",
       "      <td>...</td>\n",
       "      <td>...</td>\n",
       "      <td>...</td>\n",
       "    </tr>\n",
       "    <tr>\n",
       "      <th>140</th>\n",
       "      <td>2025-01-13 19:00:00+00:00</td>\n",
       "      <td>4.100</td>\n",
       "      <td>0.1</td>\n",
       "      <td>100</td>\n",
       "      <td>27.609911</td>\n",
       "      <td>2025-01-13</td>\n",
       "      <td>0.000000</td>\n",
       "      <td>0</td>\n",
       "      <td>1</td>\n",
       "      <td>19</td>\n",
       "    </tr>\n",
       "    <tr>\n",
       "      <th>141</th>\n",
       "      <td>2025-01-13 20:00:00+00:00</td>\n",
       "      <td>4.100</td>\n",
       "      <td>0.1</td>\n",
       "      <td>100</td>\n",
       "      <td>28.916763</td>\n",
       "      <td>2025-01-13</td>\n",
       "      <td>0.000000</td>\n",
       "      <td>0</td>\n",
       "      <td>1</td>\n",
       "      <td>20</td>\n",
       "    </tr>\n",
       "    <tr>\n",
       "      <th>142</th>\n",
       "      <td>2025-01-13 21:00:00+00:00</td>\n",
       "      <td>4.150</td>\n",
       "      <td>0.1</td>\n",
       "      <td>100</td>\n",
       "      <td>29.869154</td>\n",
       "      <td>2025-01-13</td>\n",
       "      <td>0.000000</td>\n",
       "      <td>0</td>\n",
       "      <td>1</td>\n",
       "      <td>21</td>\n",
       "    </tr>\n",
       "    <tr>\n",
       "      <th>143</th>\n",
       "      <td>2025-01-13 22:00:00+00:00</td>\n",
       "      <td>4.350</td>\n",
       "      <td>0.0</td>\n",
       "      <td>100</td>\n",
       "      <td>29.871325</td>\n",
       "      <td>2025-01-13</td>\n",
       "      <td>0.000000</td>\n",
       "      <td>0</td>\n",
       "      <td>1</td>\n",
       "      <td>22</td>\n",
       "    </tr>\n",
       "    <tr>\n",
       "      <th>144</th>\n",
       "      <td>2025-01-13 23:00:00+00:00</td>\n",
       "      <td>4.500</td>\n",
       "      <td>0.0</td>\n",
       "      <td>100</td>\n",
       "      <td>29.237675</td>\n",
       "      <td>2025-01-13</td>\n",
       "      <td>0.000000</td>\n",
       "      <td>0</td>\n",
       "      <td>1</td>\n",
       "      <td>23</td>\n",
       "    </tr>\n",
       "  </tbody>\n",
       "</table>\n",
       "<p>145 rows × 10 columns</p>\n",
       "</div>"
      ],
      "text/plain": [
       "                         time  temperature  precipitation  cloud_cover  \\\n",
       "0   2025-01-07 23:00:00+00:00        3.524            0.0          100   \n",
       "1   2025-01-08 00:00:00+00:00        3.874            0.0          100   \n",
       "2   2025-01-08 01:00:00+00:00        3.724            0.0          100   \n",
       "3   2025-01-08 02:00:00+00:00        3.674            0.0          100   \n",
       "4   2025-01-08 03:00:00+00:00        3.624            0.0          100   \n",
       "..                        ...          ...            ...          ...   \n",
       "140 2025-01-13 19:00:00+00:00        4.100            0.1          100   \n",
       "141 2025-01-13 20:00:00+00:00        4.100            0.1          100   \n",
       "142 2025-01-13 21:00:00+00:00        4.150            0.1          100   \n",
       "143 2025-01-13 22:00:00+00:00        4.350            0.0          100   \n",
       "144 2025-01-13 23:00:00+00:00        4.500            0.0          100   \n",
       "\n",
       "     wind_speed_10m       date  sunshine_duration  weekday  month  hour  \n",
       "0         34.200001 2025-01-07           0.000000        1      1    23  \n",
       "1         36.360001 2025-01-08        2285.459717        2      1     0  \n",
       "2         37.079998 2025-01-08        2285.459717        2      1     1  \n",
       "3         35.639999 2025-01-08        2285.459717        2      1     2  \n",
       "4         34.919998 2025-01-08        2285.459717        2      1     3  \n",
       "..              ...        ...                ...      ...    ...   ...  \n",
       "140       27.609911 2025-01-13           0.000000        0      1    19  \n",
       "141       28.916763 2025-01-13           0.000000        0      1    20  \n",
       "142       29.869154 2025-01-13           0.000000        0      1    21  \n",
       "143       29.871325 2025-01-13           0.000000        0      1    22  \n",
       "144       29.237675 2025-01-13           0.000000        0      1    23  \n",
       "\n",
       "[145 rows x 10 columns]"
      ]
     },
     "execution_count": 12,
     "metadata": {},
     "output_type": "execute_result"
    }
   ],
   "source": [
    "sthlm_forecast_df = fetch_data.get_hourly_weather_forecast(59.3294, 18.0687) #Stockholm\n",
    "malmo_forecast_df = fetch_data.get_hourly_weather_forecast(55.6059, 13.0007) #Malmo\n",
    "\n",
    "# Drop nan values\n",
    "sthlm_forecast_df = sthlm_forecast_df.dropna()\n",
    "malmo_forecast_df = malmo_forecast_df.dropna()\n",
    "\n",
    "malmo_forecast_df"
   ]
  },
  {
   "cell_type": "markdown",
   "id": "2a326ce7",
   "metadata": {},
   "source": [
    "## Insert weather forecast data into weather featuregroups"
   ]
  },
  {
   "cell_type": "code",
   "execution_count": 13,
   "id": "e113c895",
   "metadata": {},
   "outputs": [
    {
     "name": "stderr",
     "output_type": "stream",
     "text": [
      "Uploading Dataframe: 100.00% |██████████| Rows 145/145 | Elapsed Time: 00:01 | Remaining Time: 00:00\n"
     ]
    },
    {
     "name": "stdout",
     "output_type": "stream",
     "text": [
      "Launching job: stockholm_weather_1_offline_fg_materialization\n",
      "Job started successfully, you can follow the progress at \n",
      "https://c.app.hopsworks.ai:443/p/1207495/jobs/named/stockholm_weather_1_offline_fg_materialization/executions\n"
     ]
    },
    {
     "name": "stderr",
     "output_type": "stream",
     "text": [
      "Uploading Dataframe: 100.00% |██████████| Rows 145/145 | Elapsed Time: 00:01 | Remaining Time: 00:00\n"
     ]
    },
    {
     "name": "stdout",
     "output_type": "stream",
     "text": [
      "Launching job: malmo_weather_1_offline_fg_materialization\n",
      "Job started successfully, you can follow the progress at \n",
      "https://c.app.hopsworks.ai:443/p/1207495/jobs/named/malmo_weather_1_offline_fg_materialization/executions\n"
     ]
    },
    {
     "data": {
      "text/plain": [
       "(Job('malmo_weather_1_offline_fg_materialization', 'SPARK'), None)"
      ]
     },
     "execution_count": 13,
     "metadata": {},
     "output_type": "execute_result"
    }
   ],
   "source": [
    "# Insert the new weather forecast into the feature store\n",
    "sthlm_weather_fg.insert(sthlm_forecast_df)\n",
    "malmo_weather_fg.insert(malmo_forecast_df)"
   ]
  },
  {
   "cell_type": "markdown",
   "id": "0187b1a7",
   "metadata": {},
   "source": [
    "## END"
   ]
  }
 ],
 "metadata": {
  "kernelspec": {
   "display_name": "base",
   "language": "python",
   "name": "python3"
  },
  "language_info": {
   "codemirror_mode": {
    "name": "ipython",
    "version": 3
   },
   "file_extension": ".py",
   "mimetype": "text/x-python",
   "name": "python",
   "nbconvert_exporter": "python",
   "pygments_lexer": "ipython3",
   "version": "3.10.9"
  }
 },
 "nbformat": 4,
 "nbformat_minor": 5
}
